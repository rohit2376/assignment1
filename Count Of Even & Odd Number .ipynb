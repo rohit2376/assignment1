{
 "cells": [
  {
   "cell_type": "code",
   "execution_count": 1,
   "id": "23819200",
   "metadata": {},
   "outputs": [
    {
     "name": "stdout",
     "output_type": "stream",
     "text": [
      "The Count of Even Numbers are  : 4\n",
      "The count of Odd Numbers are   : 5\n"
     ]
    }
   ],
   "source": [
    "#Write a Python program to count the number of even and odd numbers from a series of numbers.\n",
    "#Sample numbers : numbers = (1, 2, 3, 4, 5, 6, 7, 8, 9) \n",
    "\n",
    "#Expected Output :\n",
    "#Number of even numbers : 4\n",
    "#Number of odd numbers : 5\n",
    "\n",
    "numbers = (1, 2, 3, 4, 5, 6, 7, 8, 9)\n",
    "n1=0\n",
    "n2=0\n",
    "for num in numbers:\n",
    "    if num%2==0:\n",
    "        n1=n1+1\n",
    "    else:\n",
    "        n2=n2+1\n",
    "print(\"The Count of Even Numbers are  :\",n1)\n",
    "print(\"The count of Odd Numbers are   :\",n2)"
   ]
  },
  {
   "cell_type": "code",
   "execution_count": null,
   "id": "bdf75cb9",
   "metadata": {},
   "outputs": [],
   "source": []
  }
 ],
 "metadata": {
  "kernelspec": {
   "display_name": "Python 3 (ipykernel)",
   "language": "python",
   "name": "python3"
  },
  "language_info": {
   "codemirror_mode": {
    "name": "ipython",
    "version": 3
   },
   "file_extension": ".py",
   "mimetype": "text/x-python",
   "name": "python",
   "nbconvert_exporter": "python",
   "pygments_lexer": "ipython3",
   "version": "3.9.13"
  }
 },
 "nbformat": 4,
 "nbformat_minor": 5
}
