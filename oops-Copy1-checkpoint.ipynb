{
 "cells": [
  {
   "cell_type": "code",
   "execution_count": 76,
   "id": "cd5c4f04",
   "metadata": {},
   "outputs": [
    {
     "name": "stdout",
     "output_type": "stream",
     "text": [
      "35\n"
     ]
    }
   ],
   "source": [
    "#Challenge 1: Square Numbers and Return Their Sum\n",
    "class point:\n",
    "    def __init__(self,x,y,z):\n",
    "        self.x=x\n",
    "        self.y=y\n",
    "        self.z=z\n",
    "        \n",
    "    def sqSum(self):\n",
    "        return self.x**2+self.y**2+self.z**2\n",
    "a = point(1,3,5)\n",
    "print(a.sqSum())"
   ]
  },
  {
   "cell_type": "code",
   "execution_count": 69,
   "id": "e0e6deea",
   "metadata": {},
   "outputs": [
    {
     "name": "stdout",
     "output_type": "stream",
     "text": [
      "104\n",
      "84\n",
      "940\n",
      "9.4\n"
     ]
    }
   ],
   "source": [
    "#Challenge 2: Implement a Calculator Class\n",
    "\n",
    "\n",
    "class Calculator:\n",
    "\n",
    "    def __init__(self,num1,num2):\n",
    "        self.num1=num1\n",
    "        self.num2=num2\n",
    "        \n",
    "    def add(self):\n",
    "        return self.num1+self.num2\n",
    "    \n",
    "    def subtract(self):\n",
    "        return self.num2-self.num1\n",
    "    \n",
    "    def multiply(self):\n",
    "        return self.num1*self.num2\n",
    "    \n",
    "    def divide(self):\n",
    "        return self.num2/self.num1\n",
    "    \n",
    "obj = Calculator(10, 94)\n",
    "print(obj.add())\n",
    "print(obj.subtract())\n",
    "print(obj.multiply())\n",
    "print(obj.divide())"
   ]
  },
  {
   "cell_type": "code",
   "execution_count": 62,
   "id": "1500ae35",
   "metadata": {},
   "outputs": [],
   "source": [
    "#Challenge 3: Implement the Complete Student Class\n",
    "\n",
    "class Student:\n",
    "    def __init__(self,name,rollnumber):\n",
    "        self.__name=name\n",
    "        self.__rollnumber=rollnumber\n",
    "        \n",
    "        def get_name(self):\n",
    "            print(\"getter method called\")\n",
    "            return self.__name\n",
    "        \n",
    "        def set_name(self,x):\n",
    "            print(\"setter method called\")\n",
    "            self.__name=x\n",
    "        \n",
    "        def get_rollnumber(self):\n",
    "            print(\"getter method called\")\n",
    "            return self.__rollnumber\n",
    "        \n",
    "        def set_rollnumber(self,rollnumber):\n",
    "            print(\"setter method called\")\n",
    "            self.__rollnumber=rollnumber\n",
    "        \n"
   ]
  },
  {
   "cell_type": "code",
   "execution_count": 63,
   "id": "7b9f79bc",
   "metadata": {},
   "outputs": [],
   "source": [
    "#Challenge 4: Implement a Banking Account\n",
    "\n",
    "\n",
    "class Account:\n",
    "\n",
    "    def __init__(self,title,balance=0):\n",
    "        self.title=title\n",
    "        self.balance=balance\n",
    "\n",
    "class SavingsAccount():\n",
    "\n",
    "    def __init__(self,title,balance,interestrate):\n",
    "        super().__init__()\n",
    "        self.interestrate=interestrate\n",
    "        \n",
    "        \n",
    "x=Account(\"Ashish\",5000)\n",
    "y=SavingsAccount(\"Ashish\",5000,5)"
   ]
  },
  {
   "cell_type": "code",
   "execution_count": 68,
   "id": "88cdffa1",
   "metadata": {},
   "outputs": [
    {
     "name": "stdout",
     "output_type": "stream",
     "text": [
      "Balance After Deposit  2500\n",
      "Balance After Withdrawal : 2000\n",
      "100.0\n"
     ]
    }
   ],
   "source": [
    "#Challenge 5: Handling a Bank Account\n",
    "\n",
    "class Account:\n",
    "\n",
    "    def __init__(self,title,balance=0):\n",
    "        self.title=title\n",
    "        self.balance=balance\n",
    "        \n",
    "    def deposit(self,amount):\n",
    "        self.balance=self.balance+amount\n",
    "        print(\"Balance After Deposit \",self.balance)\n",
    "        \n",
    "    def withdraw(self,amount): \n",
    "        if amount>self.balance:\n",
    "            print(\"Insufficient balance we cannot process your request\")\n",
    "            sys.exit()\n",
    "        self.balance=self.balance-amount \n",
    "        print(\"Balance After Withdrawal :\",self.balance)\n",
    "        \n",
    "        \n",
    "    def getbalance(self):\n",
    "        print(\"Balance Available :\",self.balance)\n",
    "\n",
    "class SavingsAccount():\n",
    "\n",
    "    def __init__(self,title,balance,interestrate):\n",
    "        super().__init__()\n",
    "        self.interestrate=interestrate\n",
    "        interest_amount=(self.interestrate*balance)/100\n",
    "        print(interest_amount)\n",
    "        \n",
    "x=Account(\"Ashish\",2000)\n",
    "x.deposit(500)\n",
    "x.withdraw(500)\n",
    "y=SavingsAccount(\"Ashish\",2000,5)"
   ]
  },
  {
   "cell_type": "code",
   "execution_count": null,
   "id": "bcf5fc42",
   "metadata": {},
   "outputs": [],
   "source": []
  }
 ],
 "metadata": {
  "kernelspec": {
   "display_name": "Python 3 (ipykernel)",
   "language": "python",
   "name": "python3"
  },
  "language_info": {
   "codemirror_mode": {
    "name": "ipython",
    "version": 3
   },
   "file_extension": ".py",
   "mimetype": "text/x-python",
   "name": "python",
   "nbconvert_exporter": "python",
   "pygments_lexer": "ipython3",
   "version": "3.9.13"
  }
 },
 "nbformat": 4,
 "nbformat_minor": 5
}
