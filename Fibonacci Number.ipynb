{
 "cells": [
  {
   "cell_type": "code",
   "execution_count": 1,
   "id": "72f11963",
   "metadata": {},
   "outputs": [
    {
     "name": "stdout",
     "output_type": "stream",
     "text": [
      "Enter the number  :11\n",
      "Fibonanci numbers are:\n",
      "0\n",
      "1\n",
      "1\n",
      "2\n",
      "3\n",
      "5\n",
      "8\n",
      "13\n",
      "21\n",
      "34\n",
      "55\n"
     ]
    }
   ],
   "source": [
    "#The Fibonacci Sequence is the series of numbers :\n",
    "#0, 1, 1, 2, 3, 5, 8, 13, 21, ....\n",
    "#Every next number is found by adding up the two numbers before it.\n",
    "#Expected Output : 1 1 2 3 5 8 13 21 34\n",
    "\n",
    "num=int(input(\"Enter the number  :\"))\n",
    "\n",
    "n1=0\n",
    "n2=1\n",
    "i=0\n",
    "\n",
    "if num<=0:\n",
    "    print(\"Enter Positive interger\")\n",
    "\n",
    "elif num==1:\n",
    "    print(\"Fibonanci Number are :\",num)\n",
    "\n",
    "else:\n",
    "    print(\"Fibonanci numbers are:\")\n",
    "    while i<num:\n",
    "        print(n1)\n",
    "        n_term=n1+n2\n",
    "        n1=n2\n",
    "        n2=n_term\n",
    "        i=i+1"
   ]
  },
  {
   "cell_type": "code",
   "execution_count": null,
   "id": "71107559",
   "metadata": {},
   "outputs": [],
   "source": []
  }
 ],
 "metadata": {
  "kernelspec": {
   "display_name": "Python 3 (ipykernel)",
   "language": "python",
   "name": "python3"
  },
  "language_info": {
   "codemirror_mode": {
    "name": "ipython",
    "version": 3
   },
   "file_extension": ".py",
   "mimetype": "text/x-python",
   "name": "python",
   "nbconvert_exporter": "python",
   "pygments_lexer": "ipython3",
   "version": "3.9.13"
  }
 },
 "nbformat": 4,
 "nbformat_minor": 5
}
