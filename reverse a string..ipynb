{
 "cells": [
  {
   "cell_type": "code",
   "execution_count": 1,
   "id": "a8bc7547",
   "metadata": {},
   "outputs": [
    {
     "name": "stdout",
     "output_type": "stream",
     "text": [
      "the oringinal string is: 1234abcd\n",
      "the reverse  string is: dcba4321\n"
     ]
    }
   ],
   "source": [
    "#Write a Python program to reverse a string.\n",
    "#Sample String : \"1234abcd\"\n",
    "\n",
    "#Expected Output : \"dcba4321\"\n",
    "\n",
    "def reverse(string):\n",
    "    string=string[::-1]\n",
    "    return string\n",
    "\n",
    "s=\"1234abcd\"\n",
    "\n",
    "print(\"the oringinal string is: \",end=\"\")\n",
    "print(s)\n",
    "\n",
    "print(\"the reverse  string is: \",end=\"\")\n",
    "print(reverse(s))"
   ]
  },
  {
   "cell_type": "code",
   "execution_count": null,
   "id": "a86d4abb",
   "metadata": {},
   "outputs": [],
   "source": []
  }
 ],
 "metadata": {
  "kernelspec": {
   "display_name": "Python 3 (ipykernel)",
   "language": "python",
   "name": "python3"
  },
  "language_info": {
   "codemirror_mode": {
    "name": "ipython",
    "version": 3
   },
   "file_extension": ".py",
   "mimetype": "text/x-python",
   "name": "python",
   "nbconvert_exporter": "python",
   "pygments_lexer": "ipython3",
   "version": "3.9.13"
  }
 },
 "nbformat": 4,
 "nbformat_minor": 5
}
