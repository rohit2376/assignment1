{
 "cells": [
  {
   "cell_type": "code",
   "execution_count": null,
   "id": "d51b4fa0",
   "metadata": {},
   "outputs": [],
   "source": [
    "num_1 = int(input(\"enter the 1st number\":))\n",
    "num_2 = int(input(\"enter the 2nd number\":))\n",
    "sum = num_1 + num_2\n",
    "sub = num_1 - num_2\n",
    "mul = num_1 * num_2\n",
    "div = num_1 / num_2\n",
    "fdiv = num_1 // num_2\n",
    "print(\"Sum\",sum)\n"
   ]
  },
  {
   "cell_type": "code",
   "execution_count": null,
   "id": "f07cb40e",
   "metadata": {},
   "outputs": [],
   "source": []
  },
  {
   "cell_type": "code",
   "execution_count": null,
   "id": "bb8f9f3a",
   "metadata": {},
   "outputs": [],
   "source": []
  },
  {
   "cell_type": "code",
   "execution_count": null,
   "id": "78d01195",
   "metadata": {},
   "outputs": [],
   "source": []
  }
 ],
 "metadata": {
  "kernelspec": {
   "display_name": "Python 3 (ipykernel)",
   "language": "python",
   "name": "python3"
  },
  "language_info": {
   "codemirror_mode": {
    "name": "ipython",
    "version": 3
   },
   "file_extension": ".py",
   "mimetype": "text/x-python",
   "name": "python",
   "nbconvert_exporter": "python",
   "pygments_lexer": "ipython3",
   "version": "3.9.13"
  }
 },
 "nbformat": 4,
 "nbformat_minor": 5
}
