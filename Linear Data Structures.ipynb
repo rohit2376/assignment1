{
 "cells": [
  {
   "cell_type": "code",
   "execution_count": 20,
   "id": "6d42f33b",
   "metadata": {},
   "outputs": [
    {
     "name": "stdout",
     "output_type": "stream",
     "text": [
      "[(1, 9), (3, 7), (4, 6)]\n"
     ]
    }
   ],
   "source": [
    "#Q1. Write a program to find all pairs of an integer array whose sum is equal to a given number?\n",
    "\n",
    "def find_pairs(arr, target_sum):\n",
    "    pairs = []\n",
    "    x = set()\n",
    "\n",
    "    for num in arr:\n",
    "        y = target_sum - num\n",
    "        if y in x:\n",
    "            pair = (min(num, y), max(num, y))\n",
    "            pairs.append(pair)\n",
    "        x.add(num)\n",
    "\n",
    "    return pairs\n",
    "\n",
    "arr = [2, 4, 5, 7, 9, 1, 3, 6]\n",
    "target_sum = 10\n",
    "\n",
    "result = find_pairs(arr, target_sum)\n",
    "print(result)"
   ]
  },
  {
   "cell_type": "code",
   "execution_count": 21,
   "id": "8e1b1b2e",
   "metadata": {},
   "outputs": [
    {
     "name": "stdout",
     "output_type": "stream",
     "text": [
      "Original array: [4, 2, 6, 6, 7, 9, 1, 8]\n",
      "Reversed array: [8, 1, 9, 7, 6, 6, 2, 4]\n"
     ]
    }
   ],
   "source": [
    "# Q2. Write a program to reverse an array in place? In place means you cannot create a new array. You have to update the original array.\n",
    "\n",
    "def reverse_array(arr):\n",
    "    x = 0\n",
    "    y = len(arr) - 1\n",
    "\n",
    "    while x < y:\n",
    "        arr[x], arr[y] = arr[y], arr[x]\n",
    "        x += 1\n",
    "        y -= 1\n",
    "\n",
    "my_array = [4,2,6,6,7,9,1,8]\n",
    "print(\"Original array:\", my_array)\n",
    "\n",
    "reverse_array(my_array)\n",
    "print(\"Reversed array:\", my_array)"
   ]
  },
  {
   "cell_type": "code",
   "execution_count": 22,
   "id": "1717eaa2",
   "metadata": {},
   "outputs": [
    {
     "name": "stdout",
     "output_type": "stream",
     "text": [
      "The strings are rotations of each other.\n"
     ]
    }
   ],
   "source": [
    "# Q3. Write a program to check if two strings are a rotation of each other?\n",
    "\n",
    "def are_rotations(str1, str2):\n",
    "    if len(str1) != len(str2):\n",
    "        return False\n",
    "\n",
    "    x = str1 + str1\n",
    "\n",
    "    if str2 in x:\n",
    "        return True\n",
    "    else:\n",
    "        return False\n",
    "\n",
    "string1 = \"rotation\"\n",
    "string2 = \"tionrota\"\n",
    "\n",
    "if are_rotations(string1, string2):\n",
    "    print(\"The strings are rotations of each other.\")\n",
    "else:\n",
    "    print(\"The strings are not rotations of each other.\")"
   ]
  },
  {
   "cell_type": "code",
   "execution_count": 23,
   "id": "58c76f07",
   "metadata": {},
   "outputs": [
    {
     "name": "stdout",
     "output_type": "stream",
     "text": [
      "Enter the string : qwqwrrhdbxbxruythSwqwdcxbcjhh\n",
      "The first non-repeated character is: u\n"
     ]
    }
   ],
   "source": [
    "# Q4. Write a program to print the first non-repeated character from a string?\n",
    "\n",
    "def non_repeated_char(string):\n",
    "    char_count = {}\n",
    "\n",
    "    for char in string:\n",
    "        if char in char_count:\n",
    "            char_count[char] += 1\n",
    "        else:\n",
    "            char_count[char] = 1\n",
    "\n",
    "    for char in string:\n",
    "        if char_count[char] == 1:\n",
    "            return char\n",
    "\n",
    "    return None\n",
    "\n",
    "string = input(\"Enter the string : \")\n",
    "result = non_repeated_char(string)\n",
    "\n",
    "if result is not None:\n",
    "    print(\"The first non-repeated character is:\", result)\n",
    "else:\n",
    "    print(\"No non-repeated character found in the string.\")\n"
   ]
  },
  {
   "cell_type": "code",
   "execution_count": 19,
   "id": "483c4570",
   "metadata": {},
   "outputs": [
    {
     "name": "stdout",
     "output_type": "stream",
     "text": [
      "Move disk 1 from A to C\n",
      "Move disk 2 from A to B\n",
      "Move disk 1 from C to B\n",
      "Move disk 3 from A to C\n",
      "Move disk 1 from B to A\n",
      "Move disk 2 from B to C\n",
      "Move disk 1 from A to C\n"
     ]
    }
   ],
   "source": [
    "# Q5. Read about the Tower of Hanoi algorithm. Write a program to implement it.\n",
    "\n",
    "def tower_of_hanoi(n, source, auxiliary, destination):\n",
    "    if n == 1:\n",
    "        print(f\"Move disk 1 from {source} to {destination}\")\n",
    "        return\n",
    "    tower_of_hanoi(n-1, source, destination, auxiliary)\n",
    "    print(f\"Move disk {n} from {source} to {destination}\")\n",
    "    tower_of_hanoi(n-1, auxiliary, source, destination)\n",
    "\n",
    "\n",
    "\n",
    "n_disks = 3\n",
    "tower_of_hanoi(n_disks, \"A\", \"B\", \"C\")\n"
   ]
  },
  {
   "cell_type": "code",
   "execution_count": null,
   "id": "ce45b20a",
   "metadata": {},
   "outputs": [],
   "source": [
    "# Q6. Read about infix, prefix, and postfix expressions. Write a program to convert postfix to prefix expression.\n",
    "\n",
    "def postfix_to_prefix(expression):\n",
    "    stack = []\n",
    "\n",
    "    for x in expression:\n",
    "        if x.isalnum():\n",
    "            stack.append(x)\n",
    "        else:\n",
    "            operand2 = stack.pop()\n",
    "            operand1 = stack.pop()\n",
    "            prefix = x + operand1 + operand2\n",
    "            stack.append(prefix)\n",
    "\n",
    "    return stack.pop()\n",
    "\n",
    "\n",
    "\n",
    "postfix_expression = \"23*4+\"\n",
    "prefix_expression = postfix_to_prefix(postfix_expression)\n",
    "print(\"Prefix expression:\", prefix_expression)\n"
   ]
  },
  {
   "cell_type": "code",
   "execution_count": null,
   "id": "f7498dac",
   "metadata": {},
   "outputs": [],
   "source": [
    "# Q7. Write a program to convert prefix expression to infix expression.\n",
    "\n",
    "def prefix_to_infix(expression):\n",
    "    stack = []\n",
    "\n",
    "    for x in reversed(expression):\n",
    "        if x.isalnum():\n",
    "            stack.append(x)\n",
    "        else:\n",
    "            operand1 = stack.pop()\n",
    "            operand2 = stack.pop()\n",
    "            infix = f\"({operand1}{x}{operand2})\"\n",
    "            stack.append(infix)\n",
    "\n",
    "    return stack.pop()\n",
    "\n",
    "prefix_expression = \"+*234\"\n",
    "infix_expression = prefix_to_infix(prefix_expression)\n",
    "print(\"Infix expression:\", infix_expression)\n"
   ]
  },
  {
   "cell_type": "code",
   "execution_count": null,
   "id": "cab64265",
   "metadata": {},
   "outputs": [],
   "source": [
    "# Q8. Write a program to check if all the brackets are closed in a given code snippet.\n",
    "\n",
    "def check_brackets(code):\n",
    "    stack = []\n",
    "\n",
    "    opening_brackets = ['(', '{', '[']\n",
    "    closing_brackets = [')', '}', ']']\n",
    "    bracket_pairs = {'(': ')', '{': '}', '[': ']'}\n",
    "\n",
    "    for char in code:\n",
    "        if char in opening_brackets:\n",
    "            stack.append(char)\n",
    "        elif char in closing_brackets:\n",
    "            if len(stack) == 0:\n",
    "                return False\n",
    "            last_opening_bracket = stack.pop()\n",
    "            if bracket_pairs[last_opening_bracket] != char:\n",
    "                return False\n",
    "\n",
    "    return len(stack) == 0\n",
    "\n",
    "code_snippet = \"\"\"\n",
    "def func():\n",
    "    if condition:\n",
    "        print(\"Hello, world!\")\n",
    "\"\"\"\n",
    "\n",
    "if check_brackets(code_snippet):\n",
    "    print(\"All brackets are closed properly.\")\n",
    "else:\n",
    "    print(\"Brackets are not closed properly.\")\n"
   ]
  },
  {
   "cell_type": "code",
   "execution_count": null,
   "id": "2d5f6eb0",
   "metadata": {},
   "outputs": [],
   "source": [
    "# Q9. Write a program to reverse a stack.\n",
    "\n",
    "def reverse_stack(stack):\n",
    "    if not stack:\n",
    "        return\n",
    "    \n",
    "    top = stack.pop()\n",
    "    reverse_stack(stack)\n",
    "    insert_at_bottom(stack, top)\n",
    "\n",
    "def insert_at_bottom(stack, item):\n",
    "    if not stack:\n",
    "        stack.append(item)\n",
    "        return\n",
    "    \n",
    "    top = stack.pop()\n",
    "    insert_at_bottom(stack, item)\n",
    "    stack.append(top)\n",
    "    \n",
    "stack = [1, 2, 3, 4, 5]\n",
    "print(\"Original stack:\", stack)\n",
    "\n",
    "reverse_stack(stack)\n",
    "print(\"Reversed stack:\", stack)\n"
   ]
  },
  {
   "cell_type": "code",
   "execution_count": null,
   "id": "de62b829",
   "metadata": {},
   "outputs": [],
   "source": [
    "# Q10. Write a program to find the smallest number using a stack.\n",
    "\n",
    "class Stack:\n",
    "    def __init__(self):\n",
    "        self.stack = []\n",
    "        self.min_stack = []\n",
    "\n",
    "    def push(self, value):\n",
    "        self.stack.append(value)\n",
    "        if not self.min_stack or value <= self.min_stack[-1]:\n",
    "            self.min_stack.append(value)\n",
    "\n",
    "    def pop(self):\n",
    "        if not self.stack:\n",
    "            return None\n",
    "        value = self.stack.pop()\n",
    "        if value == self.min_stack[-1]:\n",
    "            self.min_stack.pop()\n",
    "        return value\n",
    "\n",
    "    def get_min(self):\n",
    "        if not self.min_stack:\n",
    "            return None\n",
    "        return self.min_stack[-1]\n",
    "\n",
    "stack = Stack()\n",
    "stack.push(3)\n",
    "stack.push(2)\n",
    "stack.push(6)\n",
    "stack.push(0)\n",
    "\n",
    "print(\"Smallest number:\", stack.get_min())\n"
   ]
  },
  {
   "cell_type": "code",
   "execution_count": null,
   "id": "ba4b5505",
   "metadata": {},
   "outputs": [],
   "source": []
  }
 ],
 "metadata": {
  "kernelspec": {
   "display_name": "Python 3 (ipykernel)",
   "language": "python",
   "name": "python3"
  },
  "language_info": {
   "codemirror_mode": {
    "name": "ipython",
    "version": 3
   },
   "file_extension": ".py",
   "mimetype": "text/x-python",
   "name": "python",
   "nbconvert_exporter": "python",
   "pygments_lexer": "ipython3",
   "version": "3.9.13"
  }
 },
 "nbformat": 4,
 "nbformat_minor": 5
}
