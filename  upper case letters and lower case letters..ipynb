{
 "cells": [
  {
   "cell_type": "code",
   "execution_count": 4,
   "id": "acbd99f9",
   "metadata": {},
   "outputs": [
    {
     "name": "stdout",
     "output_type": "stream",
     "text": [
      "The original String is  : The quick Brow Fox\n",
      "Number of upper cases are  : 3\n",
      "Number of lower cases are  : 12\n"
     ]
    }
   ],
   "source": [
    "#Write a Python function that accepts a string and calculate the number of upper case letters and lower case letters.\n",
    "#Sample String : 'The quick Brow Fox'\n",
    "\n",
    "def string(s):\n",
    "    d={'UPPER_CASE':0 , 'LOWER_CASE':0}\n",
    "    for c in s:\n",
    "        if c.isupper():\n",
    "            d[\"UPPER_CASE\"]+=1\n",
    "        elif c.islower():\n",
    "            d[\"LOWER_CASE\"]+=1\n",
    "        else:\n",
    "            pass\n",
    "    print(\"The original String is  :\",s)\n",
    "    print(\"Number of upper cases are  :\",d[\"UPPER_CASE\"])\n",
    "    print(\"Number of lower cases are  :\",d[\"LOWER_CASE\"])\n",
    "string('The quick Brow Fox')"
   ]
  },
  {
   "cell_type": "code",
   "execution_count": null,
   "id": "c71d8444",
   "metadata": {},
   "outputs": [],
   "source": []
  }
 ],
 "metadata": {
  "kernelspec": {
   "display_name": "Python 3 (ipykernel)",
   "language": "python",
   "name": "python3"
  },
  "language_info": {
   "codemirror_mode": {
    "name": "ipython",
    "version": 3
   },
   "file_extension": ".py",
   "mimetype": "text/x-python",
   "name": "python",
   "nbconvert_exporter": "python",
   "pygments_lexer": "ipython3",
   "version": "3.9.13"
  }
 },
 "nbformat": 4,
 "nbformat_minor": 5
}
